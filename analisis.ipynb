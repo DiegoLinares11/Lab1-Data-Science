{
 "cells": [
  {
   "cell_type": "code",
   "execution_count": null,
   "id": "e5a7689c",
   "metadata": {},
   "outputs": [
    {
     "name": "stdout",
     "output_type": "stream",
     "text": [
      "Columnas Importación:\n",
      "['Fecha', 'Aceites lubricantes', 'Asfalto ', 'Bunker', 'Ceras', 'Combustible turbo jet', 'Diesel bajo azufre', 'Diesel ultra bajo azufre', 'Gas licuado de petróleo', 'Gasolina de aviación', 'Gasolina regular', 'Gasolina superior', 'Grasas lubricantes', 'Kerosina', 'Mezclas oleosas', 'Naftas', 'Petcoke', 'Petróleo crudo', 'Solventes', 'Butano', 'Diesel alto azufre', 'MTBE', 'Orimulsión', 'Petróleo reconstituido', 'Total importación']\n",
      "\n",
      "Columnas Consumo:\n",
      "['Fecha', 'Aceites lubricantes', 'Asfalto', 'Bunker', 'Ceras', 'Combustible turbo jet', 'Diesel bajo azufre', 'Diesel ultra bajo azufre', 'Gas licuado de petróleo', 'Gas natural', 'Gasolina de aviación', 'Gasolina regular', 'Gasolina superior', 'Grasas lubricantes', 'Kerosina', 'Mezclas\\noleosas', 'Naftas', 'PetCoke', 'Petróleo crudo', 'Solventes', 'Butano', 'Diesel alto azufre', 'Orimulsión', 'Total']\n"
     ]
    }
   ],
   "source": [
    "import pandas as pd\n",
    "import matplotlib.pyplot as plt\n",
    "import seaborn as sns\n",
    "archivo = \"dataset/Estadisticas_historicas_comercializacion.xlsx\"\n",
    "\n",
    "df_importacion = pd.read_excel(archivo, sheet_name=\"IMPORTACION\", skiprows=6, nrows=289 )\n",
    "df_consumo = pd.read_excel(archivo, sheet_name=\"CONSUMO\", skiprows=6, nrows=301 ) \n",
    "#Aca arriba lo que hicimos fue leer los archivos de excel y saltar las primeras 6 filas que son encabezados y no nos interesan.\n",
    "#Tambien especificamos el numero de filas que queremos leer, en este caso 289 para importacion y 301 para consumo.\n",
    "\n",
    "# Renombrar columnas para facilitar\n",
    "cols_import = df_importacion.columns.tolist()\n",
    "cols_consumo = df_consumo.columns.tolist()\n",
    "\n",
    "print(\"Columnas Importación:\")\n",
    "print(cols_import)\n",
    "\n",
    "print(\"\\nColumnas Consumo:\")\n",
    "print(cols_consumo)"
   ]
  },
  {
   "cell_type": "markdown",
   "id": "2c0a134c",
   "metadata": {},
   "source": [
    "Bien logramos identificar las columnas importantes ahora vamos a solo a agarrar las que nos interesan. "
   ]
  },
  {
   "cell_type": "code",
   "execution_count": 46,
   "id": "a9f83c10",
   "metadata": {},
   "outputs": [],
   "source": [
    "df_importacion = df_importacion[['Fecha', 'Gasolina regular', 'Gasolina superior', 'Diesel alto azufre']]\n",
    "df_consumo = df_consumo[['Fecha', 'Gasolina regular', 'Gasolina superior', 'Diesel alto azufre']]\n"
   ]
  },
  {
   "cell_type": "markdown",
   "id": "212dac6c",
   "metadata": {},
   "source": [
    "Vamos a analizar como viene formateada la fecha.. "
   ]
  },
  {
   "cell_type": "code",
   "execution_count": 47,
   "id": "25807332",
   "metadata": {},
   "outputs": [
    {
     "name": "stdout",
     "output_type": "stream",
     "text": [
      "0   2001-01-01\n",
      "1   2001-02-01\n",
      "2   2001-03-01\n",
      "3   2001-04-01\n",
      "4   2001-05-01\n",
      "Name: Fecha, dtype: datetime64[ns]\n"
     ]
    }
   ],
   "source": [
    "print(df_importacion['Fecha'].head())"
   ]
  },
  {
   "cell_type": "markdown",
   "id": "2295b790",
   "metadata": {},
   "source": [
    "MMm es tipo object asi que la vamos a transformar a datetime"
   ]
  },
  {
   "cell_type": "code",
   "execution_count": 48,
   "id": "626391ed",
   "metadata": {},
   "outputs": [],
   "source": [
    "df_importacion['Fecha'] = pd.to_datetime(df_importacion['Fecha'])\n",
    "df_consumo['Fecha'] = pd.to_datetime(df_consumo['Fecha'])"
   ]
  },
  {
   "cell_type": "code",
   "execution_count": 49,
   "id": "430029b4",
   "metadata": {},
   "outputs": [
    {
     "name": "stdout",
     "output_type": "stream",
     "text": [
      "datetime64[ns]\n"
     ]
    }
   ],
   "source": [
    "print(df_importacion['Fecha'].dtype)\n"
   ]
  },
  {
   "cell_type": "markdown",
   "id": "760d8db0",
   "metadata": {},
   "source": [
    "Ya que trabajaremos series de tiempo, conviene que Fecha sea el índice del dataframe:"
   ]
  },
  {
   "cell_type": "code",
   "execution_count": 50,
   "id": "292ee0bb",
   "metadata": {},
   "outputs": [],
   "source": [
    "df_importacion.set_index('Fecha', inplace=True)\n",
    "df_consumo.set_index('Fecha', inplace=True)\n"
   ]
  }
 ],
 "metadata": {
  "kernelspec": {
   "display_name": "Python 3",
   "language": "python",
   "name": "python3"
  },
  "language_info": {
   "codemirror_mode": {
    "name": "ipython",
    "version": 3
   },
   "file_extension": ".py",
   "mimetype": "text/x-python",
   "name": "python",
   "nbconvert_exporter": "python",
   "pygments_lexer": "ipython3",
   "version": "3.13.0"
  }
 },
 "nbformat": 4,
 "nbformat_minor": 5
}
